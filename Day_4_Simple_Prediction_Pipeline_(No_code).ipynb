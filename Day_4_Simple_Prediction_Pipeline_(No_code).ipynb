{
  "nbformat": 4,
  "nbformat_minor": 0,
  "metadata": {
    "colab": {
      "name": "Day 4. Simple Prediction Pipeline (No code).ipynb",
      "provenance": [],
      "authorship_tag": "ABX9TyN9Y8B2sKwUtU9EvnEPIX9S",
      "include_colab_link": true
    },
    "kernelspec": {
      "name": "python3",
      "display_name": "Python 3"
    },
    "language_info": {
      "name": "python"
    }
  },
  "cells": [
    {
      "cell_type": "markdown",
      "metadata": {
        "id": "view-in-github",
        "colab_type": "text"
      },
      "source": [
        "<a href=\"https://colab.research.google.com/github/LukasPurbaW/100_Days_of_Deep_Learning/blob/main/Day_4_Simple_Prediction_Pipeline_(No_code).ipynb\" target=\"_parent\"><img src=\"https://colab.research.google.com/assets/colab-badge.svg\" alt=\"Open In Colab\"/></a>"
      ]
    },
    {
      "cell_type": "code",
      "execution_count": null,
      "metadata": {
        "id": "Zp8_UcFBgUAG"
      },
      "outputs": [],
      "source": [
        "# There are several process that have to be followed for applying deep learning / creating our deep learning model.\n",
        "# The pipeline is almost the same as sklearn machine learning regression pipeline"
      ]
    },
    {
      "cell_type": "markdown",
      "source": [
        "## 1. Data Preprocessing"
      ],
      "metadata": {
        "id": "ILfu4fUOgu3o"
      }
    },
    {
      "cell_type": "code",
      "source": [
        "# In this step you should\n",
        "# 1. Import the dataset.\n",
        "# 2. Clean the dataset from missing value.\n",
        "# 3. Removing useless columns.\n",
        "# 4. Deciding which variable you want to predict.\n",
        "# 5. Deciding which variable that cna be a predictor.\n",
        "# 6. Encode the string data, you can use label encoder, or one hot encoding.\n",
        "# 7. Splitting the dataset into train and test set.\n",
        "# 8. Feature Scalling, simply doing min-max normalization or standarization it's up to you."
      ],
      "metadata": {
        "id": "wMabhUCLgwtt"
      },
      "execution_count": null,
      "outputs": []
    },
    {
      "cell_type": "markdown",
      "source": [
        "## 2. Building the ANN"
      ],
      "metadata": {
        "id": "Sdhbs2YThM8A"
      }
    },
    {
      "cell_type": "code",
      "source": [
        "# 1. Initializing the ANN.\n",
        "# 2. Adding the input layers.\n",
        "# 3. Adding the hidden layers.\n",
        "# 4. Adding the output layers."
      ],
      "metadata": {
        "id": "wi_TfgENh0dN"
      },
      "execution_count": null,
      "outputs": []
    },
    {
      "cell_type": "markdown",
      "source": [
        "## 3. Training the ANN"
      ],
      "metadata": {
        "id": "jnAh5_73ibq1"
      }
    },
    {
      "cell_type": "code",
      "source": [
        "# 1. Compiling the ANN.\n",
        "# 2. Training the ANN on Training Set"
      ],
      "metadata": {
        "id": "04Wxr6EzieWs"
      },
      "execution_count": null,
      "outputs": []
    },
    {
      "cell_type": "markdown",
      "source": [
        "## 4. Making the predictions and evaluating the model"
      ],
      "metadata": {
        "id": "-q9AcT_SoHH3"
      }
    },
    {
      "cell_type": "code",
      "source": [
        "# 1. Predict it on test set.\n",
        "# 2. Making the confusion matrix.\n",
        "# 3. Predict a single result"
      ],
      "metadata": {
        "id": "iM6-Kv01oJPE"
      },
      "execution_count": null,
      "outputs": []
    }
  ]
}