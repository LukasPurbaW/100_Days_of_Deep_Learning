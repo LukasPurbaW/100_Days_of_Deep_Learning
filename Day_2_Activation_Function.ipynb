{
  "nbformat": 4,
  "nbformat_minor": 0,
  "metadata": {
    "colab": {
      "name": "Day 2 . Activation Function.ipynb",
      "provenance": [],
      "collapsed_sections": [],
      "authorship_tag": "ABX9TyMlsGrdoQx7bw61ST5xEq6A",
      "include_colab_link": true
    },
    "kernelspec": {
      "name": "python3",
      "display_name": "Python 3"
    },
    "language_info": {
      "name": "python"
    }
  },
  "cells": [
    {
      "cell_type": "markdown",
      "metadata": {
        "id": "view-in-github",
        "colab_type": "text"
      },
      "source": [
        "<a href=\"https://colab.research.google.com/github/LukasPurbaW/100_Days_of_Deep_Learning/blob/main/Day_2_Activation_Function.ipynb\" target=\"_parent\"><img src=\"https://colab.research.google.com/assets/colab-badge.svg\" alt=\"Open In Colab\"/></a>"
      ]
    },
    {
      "cell_type": "markdown",
      "source": [
        "## Activation Function"
      ],
      "metadata": {
        "id": "YCJfYQS-0FZD"
      }
    },
    {
      "cell_type": "code",
      "execution_count": null,
      "metadata": {
        "id": "pHuSfIx9FeJJ"
      },
      "outputs": [],
      "source": [
        "# Previous lecture we learn about neuron on action, but what actually is neuron ?\n",
        "# Every neuron have a weight, and they calculate the weight using activation function.\n",
        "# In this code, you will learn about 4 different activation function."
      ]
    },
    {
      "cell_type": "markdown",
      "source": [
        "### Threshold Function"
      ],
      "metadata": {
        "id": "iaXF3vPs0eV7"
      }
    },
    {
      "cell_type": "code",
      "source": [
        "import numpy as np\n",
        "import matplotlib.pyplot as plt\n",
        "import numpy as np\n",
        "\n",
        "def binaryStep(x):\n",
        "    ''' It returns '0' is the input is less then zero otherwise it returns one '''\n",
        "    return np.heaviside(x,1)\n",
        "\n",
        "x = np.linspace(-10, 10)\n",
        "plt.plot(x, binaryStep(x))\n",
        "plt.axis('tight')\n",
        "plt.title('Activation Function (Threshold Function)')\n",
        "plt.show()"
      ],
      "metadata": {
        "colab": {
          "base_uri": "https://localhost:8080/",
          "height": 281
        },
        "id": "njH_hZS90eAF",
        "outputId": "bf7b88d8-fe6a-4dbb-af7e-07b955f8d677"
      },
      "execution_count": 3,
      "outputs": [
        {
          "output_type": "display_data",
          "data": {
            "image/png": "[encoded data removed]",
            "text/plain": [
              "<Figure size 432x288 with 1 Axes>"
            ]
          },
          "metadata": {
            "needs_background": "light"
          }
        }
      ]
    },
    {
      "cell_type": "code",
      "source": [
        "## Yes or no type of function, it's pretty straight function."
      ],
      "metadata": {
        "id": "XVuT-REM05V_"
      },
      "execution_count": null,
      "outputs": []
    },
    {
      "cell_type": "markdown",
      "source": [
        "### Sigmoid Function"
      ],
      "metadata": {
        "id": "rAhpik_O1NRN"
      }
    },
    {
      "cell_type": "code",
      "source": [
        "def sigmoid(x):\n",
        "    ''' It returns 1/(1+exp(-x)). where the values lies between zero and one '''\n",
        "    return 1/(1+np.exp(-x))\n",
        "\n",
        "x = np.linspace(-10, 10)\n",
        "plt.plot(x, sigmoid(x))\n",
        "plt.axis('tight')\n",
        "plt.title('Activation Function (Sigmoid)')\n",
        "plt.show()"
      ],
      "metadata": {
        "colab": {
          "base_uri": "https://localhost:8080/",
          "height": 281
        },
        "id": "AhvPJYd-1O9C",
        "outputId": "cd0881f4-38bb-413c-d4d8-6be9eb53e651"
      },
      "execution_count": 5,
      "outputs": [
        {
          "output_type": "display_data",
          "data": {
            "image/png": "[encoded data removed]",
            "text/plain": [
              "<Figure size 432x288 with 1 Axes>"
            ]
          },
          "metadata": {
            "needs_background": "light"
          }
        }
      ]
    },
    {
      "cell_type": "code",
      "source": [
        "## The output is equal to 1/(1+np.exp(-x)). Unlike threshold functions, this gives a smooth progression, useful in output layer."
      ],
      "metadata": {
        "id": "mzzB31k71WFs"
      },
      "execution_count": null,
      "outputs": []
    },
    {
      "cell_type": "markdown",
      "source": [
        "## Rectifier or Relu"
      ],
      "metadata": {
        "id": "DlZdp4yi1qR8"
      }
    },
    {
      "cell_type": "code",
      "source": [
        "def RELU(x):\n",
        "    ''' It returns zero if the input is less than zero otherwise it returns the given input. '''\n",
        "    x1=[]\n",
        "    for i in x:\n",
        "        if i<0:\n",
        "            x1.append(0)\n",
        "        else:\n",
        "            x1.append(i)\n",
        "    return x1\n",
        "\n",
        "x = np.linspace(-10, 10)\n",
        "plt.plot(x, RELU(x))\n",
        "plt.axis('tight')\n",
        "plt.title('Activation Function (RELU)')\n",
        "plt.show()"
      ],
      "metadata": {
        "colab": {
          "base_uri": "https://localhost:8080/",
          "height": 281
        },
        "id": "RjP_HpFK1uFT",
        "outputId": "80f136aa-3b7a-4d89-c06e-8f78f2a9a5e5"
      },
      "execution_count": 9,
      "outputs": [
        {
          "output_type": "display_data",
          "data": {
            "image/png": "[encoded data removed]",
            "text/plain": [
              "<Figure size 432x288 with 1 Axes>"
            ]
          },
          "metadata": {
            "needs_background": "light"
          }
        }
      ]
    },
    {
      "cell_type": "code",
      "source": [
        "## If the weight is 0, it stays 0, other than that, it has linear increase, the maximum value itself is infinite. Ussually used in hidden layers."
      ],
      "metadata": {
        "id": "gASLpvIZ13BA"
      },
      "execution_count": null,
      "outputs": []
    },
    {
      "cell_type": "markdown",
      "source": [
        "### Hyperpolic or Tanh Function"
      ],
      "metadata": {
        "id": "V9aHbZcz2GPU"
      }
    },
    {
      "cell_type": "code",
      "source": [
        "def tanh(x):\n",
        "    ''' It returns the value (1-exp(-2x))/(1+exp(-2x)) and the value returned will be lies in between -1 to 1.'''\n",
        "    return np.tanh(x)\n",
        "x = np.linspace(-10, 10)\n",
        "plt.plot(x, tanh(x))\n",
        "plt.axis('tight')\n",
        "plt.title('Activation Function (Tanh)')\n",
        "plt.show()"
      ],
      "metadata": {
        "colab": {
          "base_uri": "https://localhost:8080/",
          "height": 281
        },
        "id": "Ta64dRXu2Ity",
        "outputId": "91a4b7c8-fee7-4d11-9562-47a7101021b2"
      },
      "execution_count": 8,
      "outputs": [
        {
          "output_type": "display_data",
          "data": {
            "image/png": "[encoded data removed]",
            "text/plain": [
              "<Figure size 432x288 with 1 Axes>"
            ]
          },
          "metadata": {
            "needs_background": "light"
          }
        }
      ]
    },
    {
      "cell_type": "code",
      "source": [
        "## This return the minimum value of -1 and maximum value of + 1 and the graphic is smooth like sigmoid."
      ],
      "metadata": {
        "id": "ba2H0cps2SVL"
      },
      "execution_count": null,
      "outputs": []
    }
  ]
}