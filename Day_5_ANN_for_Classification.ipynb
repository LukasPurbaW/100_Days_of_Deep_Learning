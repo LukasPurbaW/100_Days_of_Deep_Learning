{
  "nbformat": 4,
  "nbformat_minor": 0,
  "metadata": {
    "colab": {
      "name": "Day 5. ANN for Classification.ipynb",
      "provenance": [],
      "authorship_tag": "ABX9TyOedadF9skzMsQYhf8AK2IP",
      "include_colab_link": true
    },
    "kernelspec": {
      "name": "python3",
      "display_name": "Python 3"
    },
    "language_info": {
      "name": "python"
    }
  },
  "cells": [
    {
      "cell_type": "markdown",
      "metadata": {
        "id": "view-in-github",
        "colab_type": "text"
      },
      "source": [
        "<a href=\"https://colab.research.google.com/github/LukasPurbaW/100_Days_of_Deep_Learning/blob/main/Day_5_ANN_for_Classification.ipynb\" target=\"_parent\"><img src=\"https://colab.research.google.com/assets/colab-badge.svg\" alt=\"Open In Colab\"/></a>"
      ]
    },
    {
      "cell_type": "markdown",
      "source": [
        "Dataset : https://drive.google.com/file/d/1rxj60Mm2_gWcDqNldS3x38Ue8opQcuR6/view?usp=sharing"
      ],
      "metadata": {
        "id": "2Br5rBfGeu7X"
      }
    },
    {
      "cell_type": "code",
      "source": [
        "# Now we will learn about using ANN for semi-real scenario with business question to create segmentation model which customers have a really high possibility of churn rates\n",
        "# This could be applied in a million of scenarios such as credit approval, insurance, promo approval, voucher, or another things."
      ],
      "metadata": {
        "id": "qbSa5Xz5e0qO"
      },
      "execution_count": 2,
      "outputs": []
    },
    {
      "cell_type": "code",
      "source": [
        "import numpy as np\n",
        "import pandas as pd\n",
        "import tensorflow as tf\n",
        "\n",
        "sheet_url = 'https://drive.google.com/file/d/1rxj60Mm2_gWcDqNldS3x38Ue8opQcuR6/view?usp=sharing'\n",
        "sheet_url ='https://drive.google.com/uc?id=' + sheet_url.split('/')[-2]\n",
        "Bank_Churn = pd.read_csv(sheet_url,encoding= 'unicode_escape')\n",
        "Bank_Churn.head()"
      ],
      "metadata": {
        "colab": {
          "base_uri": "https://localhost:8080/",
          "height": 206
        },
        "id": "eqqt4k-XfOaD",
        "outputId": "09d61f66-eedc-454b-d1b3-b8d30e6dfbb3"
      },
      "execution_count": 3,
      "outputs": [
        {
          "output_type": "execute_result",
          "data": {
            "text/html": [
              "\n",
              "  <div id=\"df-94293bf5-7266-4e69-9200-3bd6ab8b51e3\">\n",
              "    <div class=\"colab-df-container\">\n",
              "      <div>\n",
              "<style scoped>\n",
              "    .dataframe tbody tr th:only-of-type {\n",
              "        vertical-align: middle;\n",
              "    }\n",
              "\n",
              "    .dataframe tbody tr th {\n",
              "        vertical-align: top;\n",
              "    }\n",
              "\n",
              "    .dataframe thead th {\n",
              "        text-align: right;\n",
              "    }\n",
              "</style>\n",
              "<table border=\"1\" class=\"dataframe\">\n",
              "  <thead>\n",
              "    <tr style=\"text-align: right;\">\n",
              "      <th></th>\n",
              "      <th>RowNumber</th>\n",
              "      <th>CustomerId</th>\n",
              "      <th>Surname</th>\n",
              "      <th>CreditScore</th>\n",
              "      <th>Geography</th>\n",
              "      <th>Gender</th>\n",
              "      <th>Age</th>\n",
              "      <th>Tenure</th>\n",
              "      <th>Balance</th>\n",
              "      <th>NumOfProducts</th>\n",
              "      <th>HasCrCard</th>\n",
              "      <th>IsActiveMember</th>\n",
              "      <th>EstimatedSalary</th>\n",
              "      <th>Exited</th>\n",
              "    </tr>\n",
              "  </thead>\n",
              "  <tbody>\n",
              "    <tr>\n",
              "      <th>0</th>\n",
              "      <td>1</td>\n",
              "      <td>15634602</td>\n",
              "      <td>Hargrave</td>\n",
              "      <td>619</td>\n",
              "      <td>France</td>\n",
              "      <td>Female</td>\n",
              "      <td>42</td>\n",
              "      <td>2</td>\n",
              "      <td>0.00</td>\n",
              "      <td>1</td>\n",
              "      <td>1</td>\n",
              "      <td>1</td>\n",
              "      <td>101348.88</td>\n",
              "      <td>1</td>\n",
              "    </tr>\n",
              "    <tr>\n",
              "      <th>1</th>\n",
              "      <td>2</td>\n",
              "      <td>15647311</td>\n",
              "      <td>Hill</td>\n",
              "      <td>608</td>\n",
              "      <td>Spain</td>\n",
              "      <td>Female</td>\n",
              "      <td>41</td>\n",
              "      <td>1</td>\n",
              "      <td>83807.86</td>\n",
              "      <td>1</td>\n",
              "      <td>0</td>\n",
              "      <td>1</td>\n",
              "      <td>112542.58</td>\n",
              "      <td>0</td>\n",
              "    </tr>\n",
              "    <tr>\n",
              "      <th>2</th>\n",
              "      <td>3</td>\n",
              "      <td>15619304</td>\n",
              "      <td>Onio</td>\n",
              "      <td>502</td>\n",
              "      <td>France</td>\n",
              "      <td>Female</td>\n",
              "      <td>42</td>\n",
              "      <td>8</td>\n",
              "      <td>159660.80</td>\n",
              "      <td>3</td>\n",
              "      <td>1</td>\n",
              "      <td>0</td>\n",
              "      <td>113931.57</td>\n",
              "      <td>1</td>\n",
              "    </tr>\n",
              "    <tr>\n",
              "      <th>3</th>\n",
              "      <td>4</td>\n",
              "      <td>15701354</td>\n",
              "      <td>Boni</td>\n",
              "      <td>699</td>\n",
              "      <td>France</td>\n",
              "      <td>Female</td>\n",
              "      <td>39</td>\n",
              "      <td>1</td>\n",
              "      <td>0.00</td>\n",
              "      <td>2</td>\n",
              "      <td>0</td>\n",
              "      <td>0</td>\n",
              "      <td>93826.63</td>\n",
              "      <td>0</td>\n",
              "    </tr>\n",
              "    <tr>\n",
              "      <th>4</th>\n",
              "      <td>5</td>\n",
              "      <td>15737888</td>\n",
              "      <td>Mitchell</td>\n",
              "      <td>850</td>\n",
              "      <td>Spain</td>\n",
              "      <td>Female</td>\n",
              "      <td>43</td>\n",
              "      <td>2</td>\n",
              "      <td>125510.82</td>\n",
              "      <td>1</td>\n",
              "      <td>1</td>\n",
              "      <td>1</td>\n",
              "      <td>79084.10</td>\n",
              "      <td>0</td>\n",
              "    </tr>\n",
              "  </tbody>\n",
              "</table>\n",
              "</div>\n",
              "      <button class=\"colab-df-convert\" onclick=\"convertToInteractive('df-94293bf5-7266-4e69-9200-3bd6ab8b51e3')\"\n",
              "              title=\"Convert this dataframe to an interactive table.\"\n",
              "              style=\"display:none;\">\n",
              "        \n",
              "  <svg xmlns=\"http://www.w3.org/2000/svg\" height=\"24px\"viewBox=\"0 0 24 24\"\n",
              "       width=\"24px\">\n",
              "    <path d=\"M0 0h24v24H0V0z\" fill=\"none\"/>\n",
              "    <path d=\"M18.56 5.44l.94 2.06.94-2.06 2.06-.94-2.06-.94-.94-2.06-.94 2.06-2.06.94zm-11 1L8.5 8.5l.94-2.06 2.06-.94-2.06-.94L8.5 2.5l-.94 2.06-2.06.94zm10 10l.94 2.06.94-2.06 2.06-.94-2.06-.94-.94-2.06-.94 2.06-2.06.94z\"/><path d=\"M17.41 7.96l-1.37-1.37c-.4-.4-.92-.59-1.43-.59-.52 0-1.04.2-1.43.59L10.3 9.45l-7.72 7.72c-.78.78-.78 2.05 0 2.83L4 21.41c.39.39.9.59 1.41.59.51 0 1.02-.2 1.41-.59l7.78-7.78 2.81-2.81c.8-.78.8-2.07 0-2.86zM5.41 20L4 18.59l7.72-7.72 1.47 1.35L5.41 20z\"/>\n",
              "  </svg>\n",
              "      </button>\n",
              "      \n",
              "  <style>\n",
              "    .colab-df-container {\n",
              "      display:flex;\n",
              "      flex-wrap:wrap;\n",
              "      gap: 12px;\n",
              "    }\n",
              "\n",
              "    .colab-df-convert {\n",
              "      background-color: #E8F0FE;\n",
              "      border: none;\n",
              "      border-radius: 50%;\n",
              "      cursor: pointer;\n",
              "      display: none;\n",
              "      fill: #1967D2;\n",
              "      height: 32px;\n",
              "      padding: 0 0 0 0;\n",
              "      width: 32px;\n",
              "    }\n",
              "\n",
              "    .colab-df-convert:hover {\n",
              "      background-color: #E2EBFA;\n",
              "      box-shadow: 0px 1px 2px rgba(60, 64, 67, 0.3), 0px 1px 3px 1px rgba(60, 64, 67, 0.15);\n",
              "      fill: #174EA6;\n",
              "    }\n",
              "\n",
              "    [theme=dark] .colab-df-convert {\n",
              "      background-color: #3B4455;\n",
              "      fill: #D2E3FC;\n",
              "    }\n",
              "\n",
              "    [theme=dark] .colab-df-convert:hover {\n",
              "      background-color: #434B5C;\n",
              "      box-shadow: 0px 1px 3px 1px rgba(0, 0, 0, 0.15);\n",
              "      filter: drop-shadow(0px 1px 2px rgba(0, 0, 0, 0.3));\n",
              "      fill: #FFFFFF;\n",
              "    }\n",
              "  </style>\n",
              "\n",
              "      <script>\n",
              "        const buttonEl =\n",
              "          document.querySelector('#df-94293bf5-7266-4e69-9200-3bd6ab8b51e3 button.colab-df-convert');\n",
              "        buttonEl.style.display =\n",
              "          google.colab.kernel.accessAllowed ? 'block' : 'none';\n",
              "\n",
              "        async function convertToInteractive(key) {\n",
              "          const element = document.querySelector('#df-94293bf5-7266-4e69-9200-3bd6ab8b51e3');\n",
              "          const dataTable =\n",
              "            await google.colab.kernel.invokeFunction('convertToInteractive',\n",
              "                                                     [key], {});\n",
              "          if (!dataTable) return;\n",
              "\n",
              "          const docLinkHtml = 'Like what you see? Visit the ' +\n",
              "            '<a target=\"_blank\" href=https://colab.research.google.com/notebooks/data_table.ipynb>data table notebook</a>'\n",
              "            + ' to learn more about interactive tables.';\n",
              "          element.innerHTML = '';\n",
              "          dataTable['output_type'] = 'display_data';\n",
              "          await google.colab.output.renderOutput(dataTable, element);\n",
              "          const docLink = document.createElement('div');\n",
              "          docLink.innerHTML = docLinkHtml;\n",
              "          element.appendChild(docLink);\n",
              "        }\n",
              "      </script>\n",
              "    </div>\n",
              "  </div>\n",
              "  "
            ],
            "text/plain": [
              "   RowNumber  CustomerId   Surname  CreditScore Geography  Gender  Age  \\\n",
              "0          1    15634602  Hargrave          619    France  Female   42   \n",
              "1          2    15647311      Hill          608     Spain  Female   41   \n",
              "2          3    15619304      Onio          502    France  Female   42   \n",
              "3          4    15701354      Boni          699    France  Female   39   \n",
              "4          5    15737888  Mitchell          850     Spain  Female   43   \n",
              "\n",
              "   Tenure    Balance  NumOfProducts  HasCrCard  IsActiveMember  \\\n",
              "0       2       0.00              1          1               1   \n",
              "1       1   83807.86              1          0               1   \n",
              "2       8  159660.80              3          1               0   \n",
              "3       1       0.00              2          0               0   \n",
              "4       2  125510.82              1          1               1   \n",
              "\n",
              "   EstimatedSalary  Exited  \n",
              "0        101348.88       1  \n",
              "1        112542.58       0  \n",
              "2        113931.57       1  \n",
              "3         93826.63       0  \n",
              "4         79084.10       0  "
            ]
          },
          "metadata": {},
          "execution_count": 3
        }
      ]
    },
    {
      "cell_type": "markdown",
      "source": [
        "## Create the dataset"
      ],
      "metadata": {
        "id": "RNrejKybeIZk"
      }
    },
    {
      "cell_type": "code",
      "source": [
        "print(Bank_Churn.isna().sum())\n",
        "# No null values, nice"
      ],
      "metadata": {
        "id": "HwRLXygifhuG",
        "colab": {
          "base_uri": "https://localhost:8080/"
        },
        "outputId": "a48a09e8-591f-4f23-da72-9a7ee963c46d"
      },
      "execution_count": 7,
      "outputs": [
        {
          "output_type": "stream",
          "name": "stdout",
          "text": [
            "RowNumber          0\n",
            "CustomerId         0\n",
            "Surname            0\n",
            "CreditScore        0\n",
            "Geography          0\n",
            "Gender             0\n",
            "Age                0\n",
            "Tenure             0\n",
            "Balance            0\n",
            "NumOfProducts      0\n",
            "HasCrCard          0\n",
            "IsActiveMember     0\n",
            "EstimatedSalary    0\n",
            "Exited             0\n",
            "dtype: int64\n"
          ]
        }
      ]
    },
    {
      "cell_type": "code",
      "source": [
        "X = Bank_Churn.iloc[:, 3:-1].values\n",
        "y = Bank_Churn.iloc[:, -1].values"
      ],
      "metadata": {
        "id": "QbjH2XjyeXNw"
      },
      "execution_count": 8,
      "outputs": []
    },
    {
      "cell_type": "markdown",
      "source": [
        "## Encoding the geograohy and gender"
      ],
      "metadata": {
        "id": "EtBAS03Oe7bE"
      }
    },
    {
      "cell_type": "code",
      "source": [
        "# For gender\n",
        "from sklearn.preprocessing import LabelEncoder\n",
        "le = LabelEncoder()\n",
        "X[:, 2] = le.fit_transform(X[:, 2])"
      ],
      "metadata": {
        "id": "HgWi6tkXeyEm"
      },
      "execution_count": 9,
      "outputs": []
    },
    {
      "cell_type": "code",
      "source": [
        "# For Geography\n",
        "from sklearn.compose import ColumnTransformer\n",
        "from sklearn.preprocessing import OneHotEncoder\n",
        "ct = ColumnTransformer(transformers=[('encoder', OneHotEncoder(), [1])], remainder='passthrough')\n",
        "X = np.array(ct.fit_transform(X))"
      ],
      "metadata": {
        "id": "FWJW4vAWffDt"
      },
      "execution_count": 10,
      "outputs": []
    },
    {
      "cell_type": "markdown",
      "source": [
        "## Split Dataset"
      ],
      "metadata": {
        "id": "z6ZPC0z-fk-G"
      }
    },
    {
      "cell_type": "code",
      "source": [
        "from sklearn.model_selection import train_test_split\n",
        "X_train, X_test, y_train, y_test = train_test_split(X, y, test_size = 0.2, random_state = 0)"
      ],
      "metadata": {
        "id": "409BoO-hfiQ2"
      },
      "execution_count": 11,
      "outputs": []
    },
    {
      "cell_type": "markdown",
      "source": [
        "## Feature Scaling"
      ],
      "metadata": {
        "id": "3pidUxw0fuZW"
      }
    },
    {
      "cell_type": "code",
      "source": [
        "from sklearn.preprocessing import StandardScaler\n",
        "sc = StandardScaler()\n",
        "X_train = sc.fit_transform(X_train)\n",
        "X_test = sc.transform(X_test)"
      ],
      "metadata": {
        "id": "lC6x0oBXfvck"
      },
      "execution_count": 12,
      "outputs": []
    },
    {
      "cell_type": "markdown",
      "source": [
        "## Build and Train ANN"
      ],
      "metadata": {
        "id": "wSsCDPbofxik"
      }
    },
    {
      "cell_type": "code",
      "source": [
        "model = tf.keras.models.Sequential()\n",
        "model.add(tf.keras.layers.Dense(units=36, activation='relu'))\n",
        "model.add(tf.keras.layers.Dense(units=64, activation='relu'))\n",
        "model.add(tf.keras.layers.Dense(units=1, activation='sigmoid'))\n",
        "\n",
        "model.compile(optimizer = 'adam', loss = 'binary_crossentropy', metrics = ['accuracy'])"
      ],
      "metadata": {
        "id": "-6yJZPVMfyny"
      },
      "execution_count": 19,
      "outputs": []
    },
    {
      "cell_type": "code",
      "source": [
        "model.fit(X_train, y_train, batch_size = 8, epochs = 100)"
      ],
      "metadata": {
        "colab": {
          "base_uri": "https://localhost:8080/"
        },
        "id": "fclqbuxMisfq",
        "outputId": "953e4a8f-6eb6-44d5-8aa5-e91aa3c998db"
      },
      "execution_count": 21,
      "outputs": [
        {
          "output_type": "stream",
          "name": "stdout",
          "text": [
            "Epoch 1/100\n",
            "1000/1000 [==============================] - 3s 2ms/step - loss: 0.4343 - accuracy: 0.8115\n",
            "Epoch 2/100\n",
            "1000/1000 [==============================] - 2s 2ms/step - loss: 0.3649 - accuracy: 0.8519\n",
            "Epoch 3/100\n",
            "1000/1000 [==============================] - 2s 2ms/step - loss: 0.3487 - accuracy: 0.8576\n",
            "Epoch 4/100\n",
            "1000/1000 [==============================] - 2s 2ms/step - loss: 0.3426 - accuracy: 0.8601\n",
            "Epoch 5/100\n",
            "1000/1000 [==============================] - 2s 2ms/step - loss: 0.3372 - accuracy: 0.8636\n",
            "Epoch 6/100\n",
            "1000/1000 [==============================] - 2s 2ms/step - loss: 0.3347 - accuracy: 0.8640\n",
            "Epoch 7/100\n",
            "1000/1000 [==============================] - 2s 2ms/step - loss: 0.3323 - accuracy: 0.8639\n",
            "Epoch 8/100\n",
            "1000/1000 [==============================] - 2s 2ms/step - loss: 0.3282 - accuracy: 0.8658\n",
            "Epoch 9/100\n",
            "1000/1000 [==============================] - 2s 2ms/step - loss: 0.3265 - accuracy: 0.8696\n",
            "Epoch 10/100\n",
            "1000/1000 [==============================] - 2s 2ms/step - loss: 0.3228 - accuracy: 0.8691\n",
            "Epoch 11/100\n",
            "1000/1000 [==============================] - 2s 2ms/step - loss: 0.3209 - accuracy: 0.8691\n",
            "Epoch 12/100\n",
            "1000/1000 [==============================] - 2s 2ms/step - loss: 0.3192 - accuracy: 0.8674\n",
            "Epoch 13/100\n",
            "1000/1000 [==============================] - 4s 4ms/step - loss: 0.3176 - accuracy: 0.8673\n",
            "Epoch 14/100\n",
            "1000/1000 [==============================] - 4s 4ms/step - loss: 0.3129 - accuracy: 0.8705\n",
            "Epoch 15/100\n",
            "1000/1000 [==============================] - 4s 4ms/step - loss: 0.3119 - accuracy: 0.8730\n",
            "Epoch 16/100\n",
            "1000/1000 [==============================] - 3s 3ms/step - loss: 0.3096 - accuracy: 0.8744\n",
            "Epoch 17/100\n",
            "1000/1000 [==============================] - 4s 4ms/step - loss: 0.3065 - accuracy: 0.8736\n",
            "Epoch 18/100\n",
            "1000/1000 [==============================] - 4s 4ms/step - loss: 0.3051 - accuracy: 0.8741\n",
            "Epoch 19/100\n",
            "1000/1000 [==============================] - 3s 3ms/step - loss: 0.3017 - accuracy: 0.8746\n",
            "Epoch 20/100\n",
            "1000/1000 [==============================] - 3s 3ms/step - loss: 0.3007 - accuracy: 0.8760\n",
            "Epoch 21/100\n",
            "1000/1000 [==============================] - 4s 4ms/step - loss: 0.2991 - accuracy: 0.8775\n",
            "Epoch 22/100\n",
            "1000/1000 [==============================] - 4s 4ms/step - loss: 0.2965 - accuracy: 0.8767\n",
            "Epoch 23/100\n",
            "1000/1000 [==============================] - 4s 4ms/step - loss: 0.2941 - accuracy: 0.8786\n",
            "Epoch 24/100\n",
            "1000/1000 [==============================] - 2s 2ms/step - loss: 0.2932 - accuracy: 0.8789\n",
            "Epoch 25/100\n",
            "1000/1000 [==============================] - 3s 3ms/step - loss: 0.2899 - accuracy: 0.8804\n",
            "Epoch 26/100\n",
            "1000/1000 [==============================] - 2s 2ms/step - loss: 0.2885 - accuracy: 0.8779\n",
            "Epoch 27/100\n",
            "1000/1000 [==============================] - 2s 2ms/step - loss: 0.2868 - accuracy: 0.8802\n",
            "Epoch 28/100\n",
            "1000/1000 [==============================] - 2s 2ms/step - loss: 0.2851 - accuracy: 0.8836\n",
            "Epoch 29/100\n",
            "1000/1000 [==============================] - 2s 2ms/step - loss: 0.2835 - accuracy: 0.8842\n",
            "Epoch 30/100\n",
            "1000/1000 [==============================] - 2s 2ms/step - loss: 0.2821 - accuracy: 0.8861\n",
            "Epoch 31/100\n",
            "1000/1000 [==============================] - 2s 2ms/step - loss: 0.2774 - accuracy: 0.8819\n",
            "Epoch 32/100\n",
            "1000/1000 [==============================] - 2s 2ms/step - loss: 0.2786 - accuracy: 0.8855\n",
            "Epoch 33/100\n",
            "1000/1000 [==============================] - 2s 2ms/step - loss: 0.2750 - accuracy: 0.8884\n",
            "Epoch 34/100\n",
            "1000/1000 [==============================] - 2s 2ms/step - loss: 0.2737 - accuracy: 0.8863\n",
            "Epoch 35/100\n",
            "1000/1000 [==============================] - 2s 2ms/step - loss: 0.2725 - accuracy: 0.8864\n",
            "Epoch 36/100\n",
            "1000/1000 [==============================] - 2s 2ms/step - loss: 0.2699 - accuracy: 0.8905\n",
            "Epoch 37/100\n",
            "1000/1000 [==============================] - 2s 2ms/step - loss: 0.2682 - accuracy: 0.8894\n",
            "Epoch 38/100\n",
            "1000/1000 [==============================] - 2s 2ms/step - loss: 0.2673 - accuracy: 0.8896\n",
            "Epoch 39/100\n",
            "1000/1000 [==============================] - 2s 2ms/step - loss: 0.2662 - accuracy: 0.8903\n",
            "Epoch 40/100\n",
            "1000/1000 [==============================] - 2s 2ms/step - loss: 0.2639 - accuracy: 0.8896\n",
            "Epoch 41/100\n",
            "1000/1000 [==============================] - 2s 2ms/step - loss: 0.2635 - accuracy: 0.8930\n",
            "Epoch 42/100\n",
            "1000/1000 [==============================] - 2s 2ms/step - loss: 0.2617 - accuracy: 0.8885\n",
            "Epoch 43/100\n",
            "1000/1000 [==============================] - 2s 2ms/step - loss: 0.2605 - accuracy: 0.8924\n",
            "Epoch 44/100\n",
            "1000/1000 [==============================] - 2s 2ms/step - loss: 0.2594 - accuracy: 0.8921\n",
            "Epoch 45/100\n",
            "1000/1000 [==============================] - 2s 2ms/step - loss: 0.2556 - accuracy: 0.8923\n",
            "Epoch 46/100\n",
            "1000/1000 [==============================] - 2s 2ms/step - loss: 0.2556 - accuracy: 0.8930\n",
            "Epoch 47/100\n",
            "1000/1000 [==============================] - 2s 2ms/step - loss: 0.2535 - accuracy: 0.8966\n",
            "Epoch 48/100\n",
            "1000/1000 [==============================] - 2s 2ms/step - loss: 0.2526 - accuracy: 0.8971\n",
            "Epoch 49/100\n",
            "1000/1000 [==============================] - 2s 2ms/step - loss: 0.2505 - accuracy: 0.8939\n",
            "Epoch 50/100\n",
            "1000/1000 [==============================] - 2s 2ms/step - loss: 0.2489 - accuracy: 0.8954\n",
            "Epoch 51/100\n",
            "1000/1000 [==============================] - 2s 2ms/step - loss: 0.2487 - accuracy: 0.8975\n",
            "Epoch 52/100\n",
            "1000/1000 [==============================] - 2s 2ms/step - loss: 0.2452 - accuracy: 0.8949\n",
            "Epoch 53/100\n",
            "1000/1000 [==============================] - 2s 2ms/step - loss: 0.2475 - accuracy: 0.8966\n",
            "Epoch 54/100\n",
            "1000/1000 [==============================] - 2s 2ms/step - loss: 0.2433 - accuracy: 0.8994\n",
            "Epoch 55/100\n",
            "1000/1000 [==============================] - 2s 2ms/step - loss: 0.2431 - accuracy: 0.8988\n",
            "Epoch 56/100\n",
            "1000/1000 [==============================] - 2s 2ms/step - loss: 0.2404 - accuracy: 0.8997\n",
            "Epoch 57/100\n",
            "1000/1000 [==============================] - 2s 2ms/step - loss: 0.2420 - accuracy: 0.8994\n",
            "Epoch 58/100\n",
            "1000/1000 [==============================] - 2s 2ms/step - loss: 0.2361 - accuracy: 0.9011\n",
            "Epoch 59/100\n",
            "1000/1000 [==============================] - 2s 2ms/step - loss: 0.2374 - accuracy: 0.9015\n",
            "Epoch 60/100\n",
            "1000/1000 [==============================] - 2s 2ms/step - loss: 0.2338 - accuracy: 0.9004\n",
            "Epoch 61/100\n",
            "1000/1000 [==============================] - 2s 2ms/step - loss: 0.2349 - accuracy: 0.9001\n",
            "Epoch 62/100\n",
            "1000/1000 [==============================] - 2s 2ms/step - loss: 0.2327 - accuracy: 0.9031\n",
            "Epoch 63/100\n",
            "1000/1000 [==============================] - 2s 2ms/step - loss: 0.2321 - accuracy: 0.9007\n",
            "Epoch 64/100\n",
            "1000/1000 [==============================] - 2s 2ms/step - loss: 0.2293 - accuracy: 0.9045\n",
            "Epoch 65/100\n",
            "1000/1000 [==============================] - 2s 2ms/step - loss: 0.2299 - accuracy: 0.9040\n",
            "Epoch 66/100\n",
            "1000/1000 [==============================] - 2s 2ms/step - loss: 0.2265 - accuracy: 0.9053\n",
            "Epoch 67/100\n",
            "1000/1000 [==============================] - 2s 2ms/step - loss: 0.2264 - accuracy: 0.9034\n",
            "Epoch 68/100\n",
            "1000/1000 [==============================] - 2s 2ms/step - loss: 0.2273 - accuracy: 0.9024\n",
            "Epoch 69/100\n",
            "1000/1000 [==============================] - 2s 2ms/step - loss: 0.2229 - accuracy: 0.9085\n",
            "Epoch 70/100\n",
            "1000/1000 [==============================] - 2s 2ms/step - loss: 0.2237 - accuracy: 0.9075\n",
            "Epoch 71/100\n",
            "1000/1000 [==============================] - 2s 2ms/step - loss: 0.2222 - accuracy: 0.9072\n",
            "Epoch 72/100\n",
            "1000/1000 [==============================] - 2s 2ms/step - loss: 0.2203 - accuracy: 0.9065\n",
            "Epoch 73/100\n",
            "1000/1000 [==============================] - 2s 2ms/step - loss: 0.2219 - accuracy: 0.9066\n",
            "Epoch 74/100\n",
            "1000/1000 [==============================] - 2s 2ms/step - loss: 0.2158 - accuracy: 0.9141\n",
            "Epoch 75/100\n",
            "1000/1000 [==============================] - 2s 2ms/step - loss: 0.2162 - accuracy: 0.9097\n",
            "Epoch 76/100\n",
            "1000/1000 [==============================] - 2s 2ms/step - loss: 0.2170 - accuracy: 0.9086\n",
            "Epoch 77/100\n",
            "1000/1000 [==============================] - 2s 2ms/step - loss: 0.2163 - accuracy: 0.9072\n",
            "Epoch 78/100\n",
            "1000/1000 [==============================] - 2s 2ms/step - loss: 0.2156 - accuracy: 0.9072\n",
            "Epoch 79/100\n",
            "1000/1000 [==============================] - 2s 2ms/step - loss: 0.2136 - accuracy: 0.9101\n",
            "Epoch 80/100\n",
            "1000/1000 [==============================] - 2s 2ms/step - loss: 0.2131 - accuracy: 0.9096\n",
            "Epoch 81/100\n",
            "1000/1000 [==============================] - 2s 2ms/step - loss: 0.2128 - accuracy: 0.9104\n",
            "Epoch 82/100\n",
            "1000/1000 [==============================] - 2s 2ms/step - loss: 0.2073 - accuracy: 0.9147\n",
            "Epoch 83/100\n",
            "1000/1000 [==============================] - 2s 2ms/step - loss: 0.2093 - accuracy: 0.9112\n",
            "Epoch 84/100\n",
            "1000/1000 [==============================] - 2s 2ms/step - loss: 0.2080 - accuracy: 0.9125\n",
            "Epoch 85/100\n",
            "1000/1000 [==============================] - 2s 2ms/step - loss: 0.2061 - accuracy: 0.9151\n",
            "Epoch 86/100\n",
            "1000/1000 [==============================] - 2s 2ms/step - loss: 0.2038 - accuracy: 0.9137\n",
            "Epoch 87/100\n",
            "1000/1000 [==============================] - 2s 2ms/step - loss: 0.2024 - accuracy: 0.9153\n",
            "Epoch 88/100\n",
            "1000/1000 [==============================] - 2s 2ms/step - loss: 0.2051 - accuracy: 0.9135\n",
            "Epoch 89/100\n",
            "1000/1000 [==============================] - 2s 2ms/step - loss: 0.2025 - accuracy: 0.9114\n",
            "Epoch 90/100\n",
            "1000/1000 [==============================] - 2s 2ms/step - loss: 0.2009 - accuracy: 0.9149\n",
            "Epoch 91/100\n",
            "1000/1000 [==============================] - 2s 2ms/step - loss: 0.2004 - accuracy: 0.9141\n",
            "Epoch 92/100\n",
            "1000/1000 [==============================] - 2s 2ms/step - loss: 0.1966 - accuracy: 0.9171\n",
            "Epoch 93/100\n",
            "1000/1000 [==============================] - 2s 2ms/step - loss: 0.1973 - accuracy: 0.9153\n",
            "Epoch 94/100\n",
            "1000/1000 [==============================] - 2s 2ms/step - loss: 0.1973 - accuracy: 0.9169\n",
            "Epoch 95/100\n",
            "1000/1000 [==============================] - 2s 2ms/step - loss: 0.1964 - accuracy: 0.9186\n",
            "Epoch 96/100\n",
            "1000/1000 [==============================] - 2s 2ms/step - loss: 0.1958 - accuracy: 0.9176\n",
            "Epoch 97/100\n",
            "1000/1000 [==============================] - 2s 2ms/step - loss: 0.1942 - accuracy: 0.9171\n",
            "Epoch 98/100\n",
            "1000/1000 [==============================] - 2s 2ms/step - loss: 0.1917 - accuracy: 0.9183\n",
            "Epoch 99/100\n",
            "1000/1000 [==============================] - 2s 2ms/step - loss: 0.1936 - accuracy: 0.9187\n",
            "Epoch 100/100\n",
            "1000/1000 [==============================] - 2s 2ms/step - loss: 0.1898 - accuracy: 0.9193\n"
          ]
        },
        {
          "output_type": "execute_result",
          "data": {
            "text/plain": [
              "<keras.callbacks.History at 0x7f775c580a90>"
            ]
          },
          "metadata": {},
          "execution_count": 21
        }
      ]
    },
    {
      "cell_type": "markdown",
      "source": [
        "## Predicting Test Result"
      ],
      "metadata": {
        "id": "3IsH0WYlix8t"
      }
    },
    {
      "cell_type": "code",
      "source": [
        "y_pred = model.predict(X_test)\n",
        "y_pred = (y_pred > 0.5)\n",
        "print(np.concatenate((y_pred.reshape(len(y_pred),1), y_test.reshape(len(y_test),1)),1))"
      ],
      "metadata": {
        "colab": {
          "base_uri": "https://localhost:8080/"
        },
        "id": "BYwTd52oi-Pf",
        "outputId": "0be56559-f235-4673-99e0-f9143b26eef0"
      },
      "execution_count": 23,
      "outputs": [
        {
          "output_type": "stream",
          "name": "stdout",
          "text": [
            "[[1 0]\n",
            " [0 1]\n",
            " [0 0]\n",
            " ...\n",
            " [0 0]\n",
            " [0 0]\n",
            " [0 0]]\n"
          ]
        }
      ]
    },
    {
      "cell_type": "code",
      "source": [
        "# Confusion Matrix\n",
        "from sklearn.metrics import confusion_matrix, accuracy_score\n",
        "cm = confusion_matrix(y_test, y_pred)\n",
        "print(cm)\n",
        "accuracy_score(y_test, y_pred)"
      ],
      "metadata": {
        "colab": {
          "base_uri": "https://localhost:8080/"
        },
        "id": "LqXECWsEi_5v",
        "outputId": "c537d815-7d2d-4b2a-c60e-9bce54c9939b"
      },
      "execution_count": 24,
      "outputs": [
        {
          "output_type": "stream",
          "name": "stdout",
          "text": [
            "[[1454  141]\n",
            " [ 175  230]]\n"
          ]
        },
        {
          "output_type": "execute_result",
          "data": {
            "text/plain": [
              "0.842"
            ]
          },
          "metadata": {},
          "execution_count": 24
        }
      ]
    },
    {
      "cell_type": "code",
      "source": [
        "print(model.predict(sc.transform([[1, 0, 2, 600, 1, 40, 3, 50000, 2, 1, 1, 50000]])) > 0.5)"
      ],
      "metadata": {
        "colab": {
          "base_uri": "https://localhost:8080/"
        },
        "id": "wS-AkzPfiy1P",
        "outputId": "72e08bfc-e178-49b2-8d2c-b3af35995c1b"
      },
      "execution_count": 26,
      "outputs": [
        {
          "output_type": "stream",
          "name": "stdout",
          "text": [
            "[[False]]\n"
          ]
        }
      ]
    },
    {
      "cell_type": "code",
      "source": [
        ""
      ],
      "metadata": {
        "id": "KZBPyJ4oi3tv"
      },
      "execution_count": null,
      "outputs": []
    }
  ]
}