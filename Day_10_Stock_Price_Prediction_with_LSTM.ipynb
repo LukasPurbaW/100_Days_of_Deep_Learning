{
  "nbformat": 4,
  "nbformat_minor": 0,
  "metadata": {
    "colab": {
      "name": "Day 10. Stock Price Prediction with LSTM.ipynb",
      "provenance": [],
      "collapsed_sections": [
        "mPYS78ikjcIa"
      ],
      "include_colab_link": true
    },
    "kernelspec": {
      "name": "python3",
      "display_name": "Python 3"
    }
  },
  "cells": [
    {
      "cell_type": "markdown",
      "metadata": {
        "id": "view-in-github",
        "colab_type": "text"
      },
      "source": [
        "<a href=\"https://colab.research.google.com/github/LukasPurbaW/10_Days_of_Deep_Learning/blob/main/Day_10_Stock_Price_Prediction_with_LSTM.ipynb\" target=\"_parent\"><img src=\"https://colab.research.google.com/assets/colab-badge.svg\" alt=\"Open In Colab\"/></a>"
      ]
    },
    {
      "metadata": {
        "id": "EgaNRy_Rq0wx"
      },
      "cell_type": "markdown",
      "source": [
        "# Predict stock prices  with Long short-term memory (LSTM)"
      ]
    },
    {
      "metadata": {
        "id": "fmR4lwm81Vbr"
      },
      "cell_type": "code",
      "source": [
        "!pip -qq install pandas-datareader"
      ],
      "execution_count": null,
      "outputs": []
    },
    {
      "metadata": {
        "id": "hqWZAabeiLc_"
      },
      "cell_type": "code",
      "source": [
        "!apt -qq install graphviz"
      ],
      "execution_count": null,
      "outputs": []
    },
    {
      "metadata": {
        "id": "K5Wmmx6-iPUT"
      },
      "cell_type": "code",
      "source": [
        "!pip -qq install pydot pydot-ng\n",
        "!pip -qq install --upgrade pandas\n",
        "!pip -qq install --upgrade pandas-datareader"
      ],
      "execution_count": null,
      "outputs": []
    },
    {
      "metadata": {
        "id": "Ed7_c04-vz2f"
      },
      "cell_type": "markdown",
      "source": [
        "## Loading the dataset\n",
        "I use pandas-datareader to get the historical stock prices from Yahoo! finance. For this example, I get only the historical data till the end of *training_end_data*.  "
      ]
    },
    {
      "metadata": {
        "id": "Hh-pO_QXqysJ"
      },
      "cell_type": "code",
      "source": [
        "import numpy as np\n",
        "import matplotlib.pyplot as plt\n",
        "import pandas as pd\n",
        "from pandas_datareader import data as pdr\n",
        "import fix_yahoo_finance as yf\n",
        "import datetime"
      ],
      "execution_count": null,
      "outputs": []
    },
    {
      "metadata": {
        "id": "D8-w0eEtwnaj"
      },
      "cell_type": "code",
      "source": [
        "tickers = 'AAPL'\n",
        "\n",
        "start_date = '1980-12-01'\n",
        "end_date = '2018-12-31'\n",
        "\n",
        "stock_data = pdr.get_data_yahoo(tickers, start_date, end_date)\n",
        "stock_data.head(5)"
      ],
      "execution_count": null,
      "outputs": []
    },
    {
      "metadata": {
        "id": "_0UQ1jU7MHYi"
      },
      "cell_type": "code",
      "source": [
        "stock_data.describe()"
      ],
      "execution_count": null,
      "outputs": []
    },
    {
      "metadata": {
        "id": "dFKhZw-YMM0w"
      },
      "cell_type": "code",
      "source": [
        "stock_data_len = stock_data['Close'].count()\n",
        "print(stock_data_len)\n",
        "# Close price means the price at the end of the day"
      ],
      "execution_count": null,
      "outputs": []
    },
    {
      "metadata": {
        "id": "Ns7Zcn2ZClZS"
      },
      "cell_type": "code",
      "source": [
        "close_prices = stock_data.iloc[:, 1:2].values\n",
        "print(close_prices)"
      ],
      "execution_count": null,
      "outputs": []
    },
    {
      "cell_type": "code",
      "source": [
        "stock_data.isna().sum()"
      ],
      "metadata": {
        "id": "yukCE_sAPcFe"
      },
      "execution_count": null,
      "outputs": []
    },
    {
      "metadata": {
        "id": "KNaLuS1X5IVA"
      },
      "cell_type": "markdown",
      "source": [
        "Some of the price are no avaliable during holiday, so we have to clean it first. For this reason, we can fill the missing prices with the latest available prices"
      ]
    },
    {
      "metadata": {
        "id": "P6GTsn7N5Nf2"
      },
      "cell_type": "code",
      "source": [
        "all_bussinessdays = pd.date_range(start=start_date, end=end_date, freq='B')\n",
        "print(all_bussinessdays)"
      ],
      "execution_count": null,
      "outputs": []
    },
    {
      "metadata": {
        "id": "NDu-0h2i9MkT"
      },
      "cell_type": "code",
      "source": [
        "close_prices = stock_data.reindex(all_bussinessdays)\n",
        "close_prices = stock_data.fillna(method='ffill')"
      ],
      "execution_count": null,
      "outputs": []
    },
    {
      "cell_type": "code",
      "source": [
        "stock_data.isna().sum()"
      ],
      "metadata": {
        "id": "EpBeAsOwPmFj"
      },
      "execution_count": null,
      "outputs": []
    },
    {
      "metadata": {
        "id": "xTieT-gC5e-p"
      },
      "cell_type": "code",
      "source": [
        "close_prices.head(10)"
      ],
      "execution_count": null,
      "outputs": []
    },
    {
      "metadata": {
        "id": "06xfVbrD51Id"
      },
      "cell_type": "markdown",
      "source": [
        "The dataset is now complete and free of missing values. Let's have a look to the data frame summary:"
      ]
    },
    {
      "metadata": {
        "id": "TR3_R4OF8pNo"
      },
      "cell_type": "markdown",
      "source": [
        "## Feature scaling"
      ]
    },
    {
      "metadata": {
        "id": "hFwPXHiU8rDv"
      },
      "cell_type": "code",
      "source": [
        "training_set = close_prices.iloc[:, 1:2].values"
      ],
      "execution_count": null,
      "outputs": []
    },
    {
      "metadata": {
        "id": "GvPn9l4d-NyM"
      },
      "cell_type": "code",
      "source": [
        "print(training_set)"
      ],
      "execution_count": null,
      "outputs": []
    },
    {
      "metadata": {
        "id": "c9TpiTPs9QtF"
      },
      "cell_type": "code",
      "source": [
        "from sklearn.preprocessing import MinMaxScaler\n",
        "sc = MinMaxScaler(feature_range = (0, 1))\n",
        "training_set_scaled = sc.fit_transform(training_set)\n",
        "print(training_set_scaled.shape)"
      ],
      "execution_count": null,
      "outputs": []
    },
    {
      "metadata": {
        "id": "NmYp53pYHeQu"
      },
      "cell_type": "markdown",
      "source": [
        "LSTMs expect the data in a specific format, usually a 3D tensor. I start by creating data with 60 days and converting it into an array using NumPy. Next, I convert the data into a 3D dimension array with feature_set samples, 60 days and one feature at each step."
      ]
    },
    {
      "metadata": {
        "id": "HSZBYUcIDfWV"
      },
      "cell_type": "code",
      "source": [
        "features = []\n",
        "labels = []\n",
        "for i in range(60, stock_data_len):\n",
        "    features.append(training_set_scaled[i-60:i, 0])\n",
        "    labels.append(training_set_scaled[i, 0])\n",
        "\n",
        "features = np.array(features)\n",
        "labels = np.array(labels)\n",
        "\n",
        "features = np.reshape(features, (features.shape[0], features.shape[1], 1))"
      ],
      "execution_count": null,
      "outputs": []
    },
    {
      "metadata": {
        "id": "gi-GwAE_LDZm"
      },
      "cell_type": "code",
      "source": [
        "print(labels)"
      ],
      "execution_count": null,
      "outputs": []
    },
    {
      "metadata": {
        "id": "atE8xU7HLuI2"
      },
      "cell_type": "code",
      "source": [
        "print(features)"
      ],
      "execution_count": null,
      "outputs": []
    },
    {
      "metadata": {
        "id": "tfK2gzVI_sTX"
      },
      "cell_type": "markdown",
      "source": [
        "Feature tensor with three dimension: features[0] contains the ..., features[1] contains the last 60 days of values and features [2] contains the  ..."
      ]
    },
    {
      "metadata": {
        "id": "VlzVripUIyCb"
      },
      "cell_type": "code",
      "source": [
        "print(features.shape)"
      ],
      "execution_count": null,
      "outputs": []
    },
    {
      "metadata": {
        "id": "-MQYJqsDGFYA"
      },
      "cell_type": "markdown",
      "source": [
        "## Create the LSTM network\n",
        "Let's create a sequenced LSTM network with 50 units. Also the net includes some dropout layers with 0.2 which means that 20% of the neurons will be dropped."
      ]
    },
    {
      "metadata": {
        "id": "057FLdkzDk1t"
      },
      "cell_type": "code",
      "source": [
        "import tensorflow as tf"
      ],
      "execution_count": null,
      "outputs": []
    },
    {
      "metadata": {
        "id": "Tel113HiEcYE"
      },
      "cell_type": "code",
      "source": [
        "model = tf.keras.models.Sequential([\n",
        "    tf.keras.layers.LSTM(units = 50, return_sequences = True, input_shape = (features.shape[1], 1)),\n",
        "    tf.keras.layers.Dropout(0.2),\n",
        "    tf.keras.layers.LSTM(units = 50, return_sequences = True),\n",
        "    tf.keras.layers.Dropout(0.2),\n",
        "    tf.keras.layers.LSTM(units = 50, return_sequences = True),\n",
        "    tf.keras.layers.Dropout(0.2),\n",
        "    tf.keras.layers.LSTM(units = 50),\n",
        "    tf.keras.layers.Dropout(0.2),\n",
        "    tf.keras.layers.Dense(units = 1)\n",
        "])"
      ],
      "execution_count": null,
      "outputs": []
    },
    {
      "metadata": {
        "id": "7nlzkKHiPuaR"
      },
      "cell_type": "code",
      "source": [
        "print(model.summary())"
      ],
      "execution_count": null,
      "outputs": []
    },
    {
      "metadata": {
        "id": "MtpzRCsqvjnQ"
      },
      "cell_type": "markdown",
      "source": [
        "## Load the Colab TensorBoard extention and start TensorBoard inline"
      ]
    },
    {
      "metadata": {
        "id": "AxpGbuaSr9uc"
      },
      "cell_type": "code",
      "source": [
        "#%load_ext tensorboard.notebook\n",
        "#%tensorboard --logdir {LOG_BASE_DIR}"
      ],
      "execution_count": null,
      "outputs": []
    },
    {
      "metadata": {
        "id": "TVtDPeEZGmqP"
      },
      "cell_type": "markdown",
      "source": [
        "The model will be compiled and optimize by the adam optimizer and set the loss function as mean_squarred_error"
      ]
    },
    {
      "metadata": {
        "id": "lj9k7R5UFrqO"
      },
      "cell_type": "code",
      "source": [
        "model.compile(optimizer = 'adam', loss = 'mean_squared_error')"
      ],
      "execution_count": null,
      "outputs": []
    },
    {
      "metadata": {
        "id": "vdatQv4CTSvn"
      },
      "cell_type": "code",
      "source": [
        "from time import time\n",
        "start = time()\n",
        "history = model.fit(features, labels, epochs = 20, batch_size = 32, verbose = 1)\n",
        "end = time()"
      ],
      "execution_count": null,
      "outputs": []
    },
    {
      "metadata": {
        "id": "CMjYNddpWzrs"
      },
      "cell_type": "code",
      "source": [
        "print('Total training time {} seconds'.format(end - start))"
      ],
      "execution_count": null,
      "outputs": []
    },
    {
      "metadata": {
        "id": "0jX-nM6dfJSp"
      },
      "cell_type": "code",
      "source": [
        "#  [samples, days, features]\n",
        "print(features.shape)"
      ],
      "execution_count": null,
      "outputs": []
    },
    {
      "metadata": {
        "id": "yztm7-PfI_zx"
      },
      "cell_type": "code",
      "source": [
        "testing_start_date = '2019-01-01'\n",
        "testing_end_date = '2019-04-10'\n",
        "\n",
        "test_stock_data = pdr.get_data_yahoo(tickers, testing_start_date, testing_end_date)"
      ],
      "execution_count": null,
      "outputs": []
    },
    {
      "metadata": {
        "id": "VXVbTnlWd1iY"
      },
      "cell_type": "code",
      "source": [
        "test_stock_data.tail()"
      ],
      "execution_count": null,
      "outputs": []
    },
    {
      "metadata": {
        "id": "1iaY63cEJzTD"
      },
      "cell_type": "code",
      "source": [
        "test_stock_data_processed = test_stock_data.iloc[:, 1:2].values\n",
        "print(test_stock_data_processed.shape)"
      ],
      "execution_count": null,
      "outputs": []
    },
    {
      "metadata": {
        "id": "q66EIEAXb1Pw"
      },
      "cell_type": "code",
      "source": [
        "all_stock_data = pd.concat((stock_data['Close'], test_stock_data['Close']), axis = 0)\n",
        "inputs = all_stock_data[len(all_stock_data) - len(test_stock_data) - 60:].values\n",
        "inputs = inputs.reshape(-1,1)\n",
        "inputs = sc.transform(inputs)"
      ],
      "execution_count": null,
      "outputs": []
    },
    {
      "metadata": {
        "id": "EMsXM9nEdDXS"
      },
      "cell_type": "code",
      "source": [
        "X_test = []\n",
        "for i in range(60, 129):\n",
        "    X_test.append(inputs[i-60:i, 0])"
      ],
      "execution_count": null,
      "outputs": []
    },
    {
      "metadata": {
        "id": "JBo5fWfwek9K"
      },
      "cell_type": "code",
      "source": [
        "X_test = np.array(X_test)\n",
        "X_test = np.reshape(X_test, (X_test.shape[0], X_test.shape[1], 1))\n",
        "predicted_stock_price = model.predict(X_test)\n",
        "predicted_stock_price = sc.inverse_transform(predicted_stock_price)"
      ],
      "execution_count": null,
      "outputs": []
    },
    {
      "metadata": {
        "id": "EuEl7MRrdLUK"
      },
      "cell_type": "code",
      "source": [
        "plt.figure(figsize=(10,6))  \n",
        "plt.plot(test_stock_data_processed, color='blue', label='Actual Apple Stock Price')  \n",
        "plt.plot(predicted_stock_price , color='red', label='Predicted Apple Stock Price')  \n",
        "plt.title('Apple Stock Price Prediction')  \n",
        "plt.xlabel('Date')  \n",
        "plt.ylabel('Apple Stock Price')  \n",
        "plt.legend()  \n",
        "plt.show()  "
      ],
      "execution_count": null,
      "outputs": []
    },
    {
      "metadata": {
        "id": "mPYS78ikjcIa"
      },
      "cell_type": "markdown",
      "source": [
        "## Download the model and the weights"
      ]
    },
    {
      "metadata": {
        "id": "knvmvzsZjN1r"
      },
      "cell_type": "code",
      "source": [
        "from google.colab import files"
      ],
      "execution_count": null,
      "outputs": []
    },
    {
      "metadata": {
        "id": "zlfsWuIPi48Y"
      },
      "cell_type": "code",
      "source": [
        "model_json = model.to_json()\n",
        "with open(\"model.json\", \"w\") as json_file:\n",
        "  json_file.write(model_json)"
      ],
      "execution_count": null,
      "outputs": []
    },
    {
      "metadata": {
        "id": "t_Zig-9ojIQK"
      },
      "cell_type": "code",
      "source": [
        "files.download(\"model.json\")"
      ],
      "execution_count": null,
      "outputs": []
    },
    {
      "metadata": {
        "id": "VQBt2bNCjVGb"
      },
      "cell_type": "code",
      "source": [
        "model.save('weights.h5')\n",
        "files.download('weights.h5')"
      ],
      "execution_count": null,
      "outputs": []
    }
  ]
}